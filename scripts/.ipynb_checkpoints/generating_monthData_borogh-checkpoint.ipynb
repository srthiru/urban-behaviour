{
 "cells": [
  {
   "cell_type": "code",
   "execution_count": 1,
   "id": "c3b18c37",
   "metadata": {},
   "outputs": [],
   "source": [
    "import pandas as pd\n",
    "import matplotlib.pyplot as plt\n",
    "%matplotlib inline\n",
    "import glob\n",
    "import os\n",
    "import numpy as np\n",
    "import math\n",
    "import datetime\n",
    "import json"
   ]
  },
  {
   "cell_type": "code",
   "execution_count": 3,
   "id": "5ac01352",
   "metadata": {},
   "outputs": [
    {
     "data": {
      "text/html": [
       "<div>\n",
       "<style scoped>\n",
       "    .dataframe tbody tr th:only-of-type {\n",
       "        vertical-align: middle;\n",
       "    }\n",
       "\n",
       "    .dataframe tbody tr th {\n",
       "        vertical-align: top;\n",
       "    }\n",
       "\n",
       "    .dataframe thead th {\n",
       "        text-align: right;\n",
       "    }\n",
       "</style>\n",
       "<table border=\"1\" class=\"dataframe\">\n",
       "  <thead>\n",
       "    <tr style=\"text-align: right;\">\n",
       "      <th></th>\n",
       "      <th>zone</th>\n",
       "      <th>LocationID</th>\n",
       "      <th>borough</th>\n",
       "      <th>lat</th>\n",
       "      <th>long</th>\n",
       "    </tr>\n",
       "  </thead>\n",
       "  <tbody>\n",
       "    <tr>\n",
       "      <th>0</th>\n",
       "      <td>Newark Airport</td>\n",
       "      <td>1</td>\n",
       "      <td>EWR</td>\n",
       "      <td>-74.176786</td>\n",
       "      <td>40.689516</td>\n",
       "    </tr>\n",
       "    <tr>\n",
       "      <th>1</th>\n",
       "      <td>Jamaica Bay</td>\n",
       "      <td>2</td>\n",
       "      <td>Queens</td>\n",
       "      <td>-73.826126</td>\n",
       "      <td>40.625724</td>\n",
       "    </tr>\n",
       "    <tr>\n",
       "      <th>2</th>\n",
       "      <td>Allerton/Pelham Gardens</td>\n",
       "      <td>3</td>\n",
       "      <td>Bronx</td>\n",
       "      <td>-73.849479</td>\n",
       "      <td>40.865888</td>\n",
       "    </tr>\n",
       "    <tr>\n",
       "      <th>3</th>\n",
       "      <td>Alphabet City</td>\n",
       "      <td>4</td>\n",
       "      <td>Manhattan</td>\n",
       "      <td>-73.977023</td>\n",
       "      <td>40.724152</td>\n",
       "    </tr>\n",
       "    <tr>\n",
       "      <th>4</th>\n",
       "      <td>Arden Heights</td>\n",
       "      <td>5</td>\n",
       "      <td>Staten Island</td>\n",
       "      <td>-74.189930</td>\n",
       "      <td>40.550340</td>\n",
       "    </tr>\n",
       "  </tbody>\n",
       "</table>\n",
       "</div>"
      ],
      "text/plain": [
       "                      zone  LocationID        borough        lat       long\n",
       "0           Newark Airport           1            EWR -74.176786  40.689516\n",
       "1              Jamaica Bay           2         Queens -73.826126  40.625724\n",
       "2  Allerton/Pelham Gardens           3          Bronx -73.849479  40.865888\n",
       "3            Alphabet City           4      Manhattan -73.977023  40.724152\n",
       "4            Arden Heights           5  Staten Island -74.189930  40.550340"
      ]
     },
     "execution_count": 3,
     "metadata": {},
     "output_type": "execute_result"
    }
   ],
   "source": [
    "path = 'taxi data/taxi_zones_with_latlong.csv'\n",
    "taxiZone = pd.read_csv(path)\n",
    "\n",
    "taxiZone = taxiZone.drop(columns=['OBJECTID','Shape_Leng', 'Shape_Area'])\n",
    "taxiZone.head()"
   ]
  },
  {
   "cell_type": "code",
   "execution_count": null,
   "id": "f6dadcf7",
   "metadata": {},
   "outputs": [],
   "source": [
    "path = 'taxi data/october/green_tripdata_2018-10.csv'\n",
    "october = pd.read_csv(path)\n",
    "\n",
    "\n",
    "path = 'taxi data/october/fhv_tripdata_2018-10.csv'\n",
    "november = pd.read_csv(path)\n",
    "\n",
    "\n",
    "path = 'taxi data/october/yellow_tripdata_2018-10.csv'\n",
    "december = pd.read_csv(path)"
   ]
  },
  {
   "cell_type": "code",
   "execution_count": null,
   "id": "5c75d9df",
   "metadata": {},
   "outputs": [],
   "source": [
    "# exporting the whole month of october data to a json file\n",
    "\n",
    "loc = taxiZone['LocationID'].to_list()\n",
    "zo = taxiZone['zone'].to_list()\n",
    "d = {'zone': zo, 'location': loc}\n",
    "wholeData = pd.DataFrame(data=d)\n",
    "\n",
    "wholeData.head()\n",
    "for i in range(1,32):\n",
    "    date = datetime.date(2018, 10, i)\n",
    "# #     print(date)\n",
    "    dropdf = allData[(allData.dropoff == date)]\n",
    "    dropdf = dropdf.rename(columns={'dropoff': 'date',\n",
    "                                                   'dropoffLocID': 'LocationID'})\n",
    "    dropdf = dropdf.merge(taxiZone, how='inner', on='LocationID')\n",
    "    \n",
    "    df = dropdf['zone'].value_counts().rename_axis('zone').reset_index(name='dropoffCount')\n",
    "\n",
    "    df = df.merge(taxiZone,on='zone', how='inner')\n",
    "    \n",
    "    temp = []\n",
    "    for index, row in wholeData.iterrows():\n",
    "        locID = row[\"location\"]\n",
    "        \n",
    "        if locID in df['LocationID'].values:\n",
    "            val = df.loc[df['LocationID'] == locID, 'dropoffCount'].to_list()\n",
    "#             print(df.loc[df['LocationID'] == locID, 'dropoffCount'].to_list())\n",
    "            temp.append(val[0])\n",
    "        else:\n",
    "            temp.append(0)\n",
    "            \n",
    "    wholeData[str(date)] = temp\n",
    "    \n",
    "wholeData.head()\n"
   ]
  },
  {
   "cell_type": "code",
   "execution_count": null,
   "id": "ebb4faec",
   "metadata": {},
   "outputs": [],
   "source": [
    "resultDict = []\n",
    "columnList = wholeData.columns.to_list()\n",
    "# print(columnList)\n",
    "for index, row in wholeData.iterrows():\n",
    "\n",
    "#         resultDict[row['location']] = {}\n",
    "    temp = {}\n",
    "    temp[\"zone\"] = row['zone']\n",
    "    temp['location'] = row['location']\n",
    "    temp['values'] = []\n",
    "\n",
    "    for i in range(2,33):\n",
    "        temp['values'].append({'date' : i-1, 'value': row[i]})\n",
    "\n",
    "#     print(temp)\n",
    "            \n",
    "        \n",
    "    resultDict.append(temp)\n",
    "    \n",
    "# print(resultDict)\n",
    "\n",
    "with open('output/whole.json', 'w') as fp:\n",
    "    json.dump(resultDict, fp)\n",
    "        \n",
    "        "
   ]
  },
  {
   "cell_type": "code",
   "execution_count": null,
   "id": "bea79c0d",
   "metadata": {},
   "outputs": [],
   "source": [
    "# exporting the whole month of october data to json files\n",
    "for i in range(1,32):\n",
    "    date = datetime.date(2018, 10, i)\n",
    "#     print(date)\n",
    "    dropdf = allData[(allData.dropoff == date)]\n",
    "    dropdf = dropdf.rename(columns={'dropoff': 'date',\n",
    "                                                   'dropoffLocID': 'LocationID'})\n",
    "    dropdf = dropdf.merge(taxiZone, how='inner', on='LocationID')\n",
    "    \n",
    "    df = dropdf['zone'].value_counts().rename_axis('zone').reset_index(name='dropoffCount')\n",
    "\n",
    "    df = df.merge(taxiZone,on='zone', how='inner')\n",
    "    \n",
    "    print(df)\n",
    "\n",
    "#     resultDict = {}\n",
    "#     for index, row in df.iterrows():\n",
    "#         resultDict[row['LocationID']] = row.to_dict()\n",
    "\n",
    "#     with open('output/{}.json'.format(date), 'w') as fp:\n",
    "#         json.dump(resultDict, fp)"
   ]
  },
  {
   "cell_type": "code",
   "execution_count": null,
   "id": "85feef5c",
   "metadata": {},
   "outputs": [],
   "source": [
    "# exporting max dropoff for each month\n",
    "resultDict = {}\n",
    "for i in range(1,32):\n",
    "    date = datetime.date(2018, 10, i)\n",
    "#     print(date)\n",
    "    dropdf = allData[(allData.dropoff == date)]\n",
    "    dropdf = dropdf.rename(columns={'dropoff': 'date',\n",
    "                                                   'dropoffLocID': 'LocationID'})\n",
    "    dropdf = dropdf.merge(taxiZone, how='inner', on='LocationID')\n",
    "    \n",
    "    df = dropdf['zone'].value_counts().rename_axis('zone').reset_index(name='dropoffCount')\n",
    "\n",
    "    df = df.merge(taxiZone,on='zone', how='inner')\n",
    "    \n",
    "#     print(df.dropoffCount.max(), df.dropoffCount.min())\n",
    "\n",
    "\n",
    "\n",
    "    resultDict[\"{}\".format(date)] = df.dropoffCount.max()\n",
    "\n",
    "#     with open('output/{}.json'.format(date), 'w') as fp:\n",
    "#         json.dump(resultDict, fp)"
   ]
  },
  {
   "cell_type": "code",
   "execution_count": null,
   "id": "55af6920",
   "metadata": {},
   "outputs": [],
   "source": [
    "    with open('output/domain.json', 'w') as fp:\n",
    "        json.dump(resultDict, fp)"
   ]
  },
  {
   "cell_type": "code",
   "execution_count": null,
   "id": "4918bf9f",
   "metadata": {},
   "outputs": [],
   "source": [
    "diwali = datetime.date(2018, 10, 13)\n",
    "\n",
    "\n",
    "diwaliDropoff = allData[(allData.dropoff == diwali)]\n",
    "diwaliDropoff = diwaliDropoff.rename(columns={'dropoff': 'date',\n",
    "                                                   'dropoffLocID': 'LocationID'})\n",
    "print(diwaliDropoff.shape)\n",
    "diwaliDropoff.tail()"
   ]
  },
  {
   "cell_type": "code",
   "execution_count": null,
   "id": "bd3f2888",
   "metadata": {},
   "outputs": [],
   "source": [
    "diwaliDropoff = diwaliDropoff.merge(taxiZone, how='inner', on='LocationID')\n",
    "diwaliDropoff.head()"
   ]
  },
  {
   "cell_type": "code",
   "execution_count": null,
   "id": "86f12d19",
   "metadata": {},
   "outputs": [],
   "source": [
    "diwaliDropoff['borough'].value_counts()"
   ]
  },
  {
   "cell_type": "code",
   "execution_count": null,
   "id": "abcf98ff",
   "metadata": {},
   "outputs": [],
   "source": [
    "diwaliDropoff['zone'].value_counts()"
   ]
  },
  {
   "cell_type": "code",
   "execution_count": null,
   "id": "5a170795",
   "metadata": {},
   "outputs": [],
   "source": [
    "df = diwaliDropoff['zone'].value_counts().rename_axis('zone').reset_index(name='dropoffCount')\n",
    "\n",
    "df = df.merge(taxiZone,on='zone', how='inner')\n",
    "df\n",
    "\n",
    "diwaliDict = {}\n",
    "for index, row in df.iterrows():\n",
    "    diwaliDict[row['LocationID']] = row.to_dict()\n",
    "    \n",
    "with open('diwaliDrop.json', 'w') as fp:\n",
    "    json.dump(diwaliDict, fp)\n",
    "\n",
    "# df.to_csv(\"diwaliDrop.csv\", index=False)\n",
    "# df.to_json('diwaliDrop.json', orient = 'records', index = 'false')"
   ]
  },
  {
   "cell_type": "code",
   "execution_count": null,
   "id": "891e53f0",
   "metadata": {},
   "outputs": [],
   "source": [
    "pizza = datetime.date(2018, 10, 10)\n",
    "\n",
    "\n",
    "pizza = allData[(allData.dropoff == pizza)]\n",
    "pizza = pizza.rename(columns={'dropoff': 'date',\n",
    "                             'dropoffLocID': 'LocationID'})\n",
    "print(pizza.shape)\n",
    "pizza.head()"
   ]
  },
  {
   "cell_type": "code",
   "execution_count": null,
   "id": "ccb1ccf4",
   "metadata": {},
   "outputs": [],
   "source": [
    "pizza = pizza.merge(taxiZone, how='inner', on='LocationID')\n",
    "pizza.head()"
   ]
  },
  {
   "cell_type": "code",
   "execution_count": null,
   "id": "8bcb7534",
   "metadata": {},
   "outputs": [],
   "source": [
    "pizza['borough'].value_counts()"
   ]
  },
  {
   "cell_type": "code",
   "execution_count": null,
   "id": "131fc387",
   "metadata": {},
   "outputs": [],
   "source": [
    "pizza['zone'].value_counts()"
   ]
  },
  {
   "cell_type": "code",
   "execution_count": null,
   "id": "2de87082",
   "metadata": {},
   "outputs": [],
   "source": [
    "dfDiwali = diwaliDropoff['zone'].value_counts().reset_index()\n",
    "dfDiwali.columns = ['zone', 'count']\n",
    "\n",
    "dfPizza = pizza['zone'].value_counts().reset_index()\n",
    "dfPizza.columns = ['zone', 'count']"
   ]
  },
  {
   "cell_type": "code",
   "execution_count": null,
   "id": "efbf96de",
   "metadata": {},
   "outputs": [],
   "source": [
    "dfPizza[dfPizza.zone == 'SoHo']"
   ]
  }
 ],
 "metadata": {
  "kernelspec": {
   "display_name": "Python 3 (ipykernel)",
   "language": "python",
   "name": "python3"
  },
  "language_info": {
   "codemirror_mode": {
    "name": "ipython",
    "version": 3
   },
   "file_extension": ".py",
   "mimetype": "text/x-python",
   "name": "python",
   "nbconvert_exporter": "python",
   "pygments_lexer": "ipython3",
   "version": "3.8.5"
  }
 },
 "nbformat": 4,
 "nbformat_minor": 5
}
