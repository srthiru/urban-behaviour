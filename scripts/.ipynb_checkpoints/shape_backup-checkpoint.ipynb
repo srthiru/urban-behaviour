{
 "cells": [
  {
   "cell_type": "code",
   "execution_count": null,
   "id": "99dc0152",
   "metadata": {},
   "outputs": [],
   "source": [
    "from shapely.geometry import Point, Polygon\n",
    "import geopandas as gpd\n",
    "import geoplot\n",
    "import geoplot.crs as gcrs\n",
    "\n",
    "\n",
    "states = gpd.read_file('taxi data/NYC Taxi Zones.geojson')\n",
    "states.head()\n",
    "\n",
    "\n",
    "geoplot.polyplot(states, figsize=(8, 4))"
   ]
  }
 ],
 "metadata": {
  "kernelspec": {
   "display_name": "Python 3 (ipykernel)",
   "language": "python",
   "name": "python3"
  },
  "language_info": {
   "codemirror_mode": {
    "name": "ipython",
    "version": 3
   },
   "file_extension": ".py",
   "mimetype": "text/x-python",
   "name": "python",
   "nbconvert_exporter": "python",
   "pygments_lexer": "ipython3",
   "version": "3.8.5"
  }
 },
 "nbformat": 4,
 "nbformat_minor": 5
}
